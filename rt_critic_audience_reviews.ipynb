{
 "cells": [
  {
   "cell_type": "code",
   "execution_count": 1,
   "metadata": {},
   "outputs": [],
   "source": [
    "import sys\n",
    "from __future__ import print_function, division\n",
    "import pprint\n",
    "import pandas as pd\n",
    "import numpy as np\n",
    "import csv\n",
    "import re\n",
    "import nltk\n",
    "from gensim import corpora, models, similarities, matutils\n",
    "from nltk.corpus import stopwords\n",
    "from nltk.tokenize import word_tokenize, RegexpTokenizer\n",
    "from nltk.util import ngrams\n",
    "from nltk import pos_tag, everygrams\n",
    "from sklearn.feature_extraction.text import CountVectorizer, TfidfVectorizer\n",
    "from sklearn.decomposition import TruncatedSVD\n",
    "from sklearn.decomposition import NMF\n",
    "from sklearn.metrics.pairwise import cosine_similarity\n",
    "from sklearn.metrics import pairwise_distances\n",
    "from sklearn.preprocessing import Normalizer\n",
    "from nltk.stem import WordNetLemmatizer, PorterStemmer\n",
    "from nltk.stem.snowball import SnowballStemmer\n",
    "import logging\n",
    "logging.basicConfig(format='%(asctime)s : %(levelname)s : %(message)s', level=logging.INFO)\n",
    "from wordcloud import WordCloud\n",
    "import spacy\n",
    "from sklearn.cluster import KMeans\n",
    "from sklearn.metrics import adjusted_rand_score\n",
    "from sklearn.pipeline import Pipeline\n",
    "from sklearn.decomposition import PCA\n",
    "from sklearn.metrics import accuracy_score, confusion_matrix\n",
    "from sklearn.model_selection import train_test_split\n",
    "from sklearn import svm\n",
    "\n",
    "import matplotlib.pyplot as plt\n",
    "import seaborn as sns\n",
    "sns.set_style('whitegrid')\n",
    "%matplotlib inline\n"
   ]
  },
  {
   "cell_type": "code",
   "execution_count": 2,
   "metadata": {},
   "outputs": [],
   "source": [
    "pd.set_option('display.max_colwidth', -1)\n",
    "cri_df = pd.read_csv('total_comedy_reviews.csv', index_col=0)\n",
    "aud_df = pd.read_csv('total_aud_reviews.csv', index_col=0)"
   ]
  },
  {
   "cell_type": "code",
   "execution_count": 3,
   "metadata": {},
   "outputs": [],
   "source": [
    "cri_df['type'] = 'critic'\n",
    "aud_df['type'] = 'audience'"
   ]
  },
  {
   "cell_type": "code",
   "execution_count": 4,
   "metadata": {},
   "outputs": [],
   "source": [
    "df = cri_df.append(aud_df)\n",
    "# df.tail()\n",
    "# df.shape"
   ]
  },
  {
   "cell_type": "code",
   "execution_count": 6,
   "metadata": {},
   "outputs": [],
   "source": [
    "df['review'] = df['review'].apply(lambda x: \" \".join(x.lower() for x in x.split())) #lowercase\n",
    "df['review'] = df['review'].str.replace('[^\\w\\s]',' ') #removing numbers\n",
    "df = df.replace('\\n',' ', regex=True) #removing \\n tag\n",
    "stop = stopwords.words('english')\n",
    "df['review'] = df['review'].apply(lambda x: \" \".join(x for x in x.split() if x not in stop)) #remove stopwords\n"
   ]
  },
  {
   "cell_type": "code",
   "execution_count": 7,
   "metadata": {},
   "outputs": [],
   "source": [
    "# lemmatizing words\n",
    "lemma = WordNetLemmatizer() \n",
    "def stem_sentences(sentence):\n",
    "    tokens = sentence.split()\n",
    "    stemmed_tokens = [lemma.lemmatize(token) for token in tokens]\n",
    "    return ' '.join(stemmed_tokens)\n",
    "\n",
    "df['review'] = df['review'].apply(stem_sentences)"
   ]
  },
  {
   "cell_type": "code",
   "execution_count": 11,
   "metadata": {},
   "outputs": [],
   "source": [
    "df['pos'] = nltk.pos_tag_sents(df['review'].apply(word_tokenize))"
   ]
  },
  {
   "cell_type": "code",
   "execution_count": 12,
   "metadata": {},
   "outputs": [],
   "source": [
    "# df.head(5)\n",
    "# df.shape"
   ]
  },
  {
   "cell_type": "code",
   "execution_count": 13,
   "metadata": {},
   "outputs": [],
   "source": [
    "def get_noun(row):\n",
    "    foo = [word for (word, pos) in row if pos == 'NN']\n",
    "    s = ' '\n",
    "    s = s.join(foo)\n",
    "    return foo"
   ]
  },
  {
   "cell_type": "code",
   "execution_count": 14,
   "metadata": {
    "scrolled": true
   },
   "outputs": [
    {
     "data": {
      "text/plain": [
       "0       [goof, love, movie, cast, character, stretch]                                                                                                                                                                                                                                                                                                                                                                                                        \n",
       "1       [pegg, gaggle, genre]                                                                                                                                                                                                                                                                                                                                                                                                                                \n",
       "2       [movie, duly, pursuit, speed, homage, action, thriller, detail, ballpoint, gun]                                                                                                                                                                                                                                                                                                                                                                      \n",
       "3       [fuzz, everything, action, comedy, parody, film, genre, straight]                                                                                                                                                                                                                                                                                                                                                                                    \n",
       "4       [culture, clash, comedy, character, story, payoff, hour, length, sentence]                                                                                                                                                                                                                                                                                                                                                                           \n",
       "5       [python, fuzz, clever, marriage, mayhem, merriment]                                                                                                                                                                                                                                                                                                                                                                                                  \n",
       "6       [gun, territory, bouncing, hollywood, style, teatime]                                                                                                                                                                                                                                                                                                                                                                                                \n",
       "7       [pegg, target]                                                                                                                                                                                                                                                                                                                                                                                                                                       \n",
       "8       [fondness, stroll, cottage, garden, dirty, harry, movie, fall, film, everybody]                                                                                                                                                                                                                                                                                                                                                                      \n",
       "9       [minute, endless, laugh]                                                                                                                                                                                                                                                                                                                                                                                                                             \n",
       "10      [bull, version, police, picture, weapon, lot, boy, waaaaay, point, break]                                                                                                                                                                                                                                                                                                                                                                            \n",
       "11      [summer, riff, summer, movie, genre]                                                                                                                                                                                                                                                                                                                                                                                                                 \n",
       "12      [fuzz, cop, spoof, law, enforcement, comedy, side, gun]                                                                                                                                                                                                                                                                                                                                                                                              \n",
       "13      [audience, action, clichés, something]                                                                                                                                                                                                                                                                                                                                                                                                               \n",
       "14      [pegg, wright, attention, grabber, wry, soundtrack, joke, demand, multiple]                                                                                                                                                                                                                                                                                                                                                                          \n",
       "15      [fuzz, demon]                                                                                                                                                                                                                                                                                                                                                                                                                                        \n",
       "16      [fuzz, predecessor, mark, cast, shauns, deadpan]                                                                                                                                                                                                                                                                                                                                                                                                     \n",
       "17      [park, humor]                                                                                                                                                                                                                                                                                                                                                                                                                                        \n",
       "18      [juvenile, sense, adult, world, begging]                                                                                                                                                                                                                                                                                                                                                                                                             \n",
       "19      [work, parker, stone, failure, nerve]                                                                                                                                                                                                                                                                                                                                                                                                                \n",
       "20      []                                                                                                                                                                                                                                                                                                                                                                                                                                                   \n",
       "21      [team, america, elaborate, deflationary]                                                                                                                                                                                                                                                                                                                                                                                                             \n",
       "22      [profane]                                                                                                                                                                                                                                                                                                                                                                                                                                            \n",
       "23      [team, america, south, park, movie, juvenile, humor, fall, team, america, work, fall, pleasure]                                                                                                                                                                                                                                                                                                                                                      \n",
       "24      [action, satire]                                                                                                                                                                                                                                                                                                                                                                                                                                     \n",
       "25      [way, team, america]                                                                                                                                                                                                                                                                                                                                                                                                                                 \n",
       "26      [parker, stone, fan, time]                                                                                                                                                                                                                                                                                                                                                                                                                           \n",
       "27      [puppetry, team, satire, gutless, comedy]                                                                                                                                                                                                                                                                                                                                                                                                            \n",
       "28      []                                                                                                                                                                                                                                                                                                                                                                                                                                                   \n",
       "29      [rude, message, sort, lot, obscenity]                                                                                                                                                                                                                                                                                                                                                                                                                \n",
       "                        ...                                                                                                                                                                                                                                                                                                                                                                                                                                  \n",
       "1562    [bid, thee, goodnigh]                                                                                                                                                                                                                                                                                                                                                                                                                                \n",
       "1563    [mom, introducing, movie, kid, script, dialogue, clever, humor, day]                                                                                                                                                                                                                                                                                                                                                                                 \n",
       "1564    [line, comedy, test, time]                                                                                                                                                                                                                                                                                                                                                                                                                           \n",
       "1565    [joke]                                                                                                                                                                                                                                                                                                                                                                                                                                               \n",
       "1566    [spoof, medieval, england]                                                                                                                                                                                                                                                                                                                                                                                                                           \n",
       "1567    [movie, gf]                                                                                                                                                                                                                                                                                                                                                                                                                                          \n",
       "1568    [movie, ni]                                                                                                                                                                                                                                                                                                                                                                                                                                          \n",
       "1569    [stink, critic, movie, audience, movie, time, joke, saw, year, bit, movie, film, half, hour, warning]                                                                                                                                                                                                                                                                                                                                                \n",
       "1570    [parody, age, person, crack, laughter, masterpiece]                                                                                                                                                                                                                                                                                                                                                                                                  \n",
       "1571    [nobody, inquisition]                                                                                                                                                                                                                                                                                                                                                                                                                                \n",
       "1572    [scene, line, movie, year, call, shirley, get, feature]                                                                                                                                                                                                                                                                                                                                                                                              \n",
       "1573    [bob, minute]                                                                                                                                                                                                                                                                                                                                                                                                                                        \n",
       "1574    [movie, sneak, peek, call, shirley]                                                                                                                                                                                                                                                                                                                                                                                                                  \n",
       "1575    [parody, air, flight, time]                                                                                                                                                                                                                                                                                                                                                                                                                          \n",
       "1576    [airplane, movie, reference, movie, movie, humor]                                                                                                                                                                                                                                                                                                                                                                                                    \n",
       "1577    [movie, comedy, scene, joke, movie, age]                                                                                                                                                                                                                                                                                                                                                                                                             \n",
       "1578    [silliness, way, airplane, timeless, slapstick, laugh, riot, family, stitch, cover, kid, eye, scene, weird, hallucination, film, pre, pg, era, get, toplessness, context, count, guess]                                                                                                                                                                                                                                                              \n",
       "1579    [line, movie]                                                                                                                                                                                                                                                                                                                                                                                                                                        \n",
       "1580    [favourite, film, time]                                                                                                                                                                                                                                                                                                                                                                                                                              \n",
       "1581    [airplane, genre, joke, tonight, time, question, watch, movie, time, mel, brook, movie]                                                                                                                                                                                                                                                                                                                                                              \n",
       "1582    [city, movie, mean, lot, movie, mix, emotion, planet, movie, gut, scene, tramp, end, tramp, meet, virginia, character, chaplin, director, actor, image, laugh, hurt]                                                                                                                                                                                                                                                                                 \n",
       "1583    [comedy]                                                                                                                                                                                                                                                                                                                                                                                                                                             \n",
       "1584    [city, light, chaplin, intimate, story, lot, heart]                                                                                                                                                                                                                                                                                                                                                                                                  \n",
       "1585    [rate, movie, low, reason, watch, acquaint, charlie, chaplin]                                                                                                                                                                                                                                                                                                                                                                                        \n",
       "1586    [pathos, comedy, piece, drama, genius, chaplin]                                                                                                                                                                                                                                                                                                                                                                                                      \n",
       "1587    [fall, blind, flower, life, life, fatcat, way, auteur, pantomime, collection, skit, story, course, tramp, replacement, fence, manner, hijinx, ritzy, club, year, slapstick, encounter, audience, get, skin, chaplin, masterpiece, share, wealth, chemistry, virginia, cherrill, relationship, star, production, blame, courtship, disappearance, act, chance, grow, couple, serf, proof, spoil, reach, idea, ingenuity, city, light, scatter, comedy]\n",
       "1588    [movie, year, movie, humor, silent, film]                                                                                                                                                                                                                                                                                                                                                                                                            \n",
       "1589    [film, excellent, comedy, romance, tramp, labor, scene, century, comedy, staple, film, today, scene, millionaire, gold, chaplin, toil, struggle, dialogue, create, scene]                                                                                                                                                                                                                                                                            \n",
       "1590    [chaplin, tramp, flower, girl, man, struggle, money, procedure, restore, sight, drunk, town, morning, chaplin, film, film, gold, rush, time, film, sequence, chaplin, drunken, trip, nightclub, match, money, make, film, end, film, subtlety, complexity, moment, film]                                                                                                                                                                             \n",
       "1591    [understand, film, guess, silent, film, desire, see]                                                                                                                                                                                                                                                                                                                                                                                                 \n",
       "Name: pos, Length: 3825, dtype: object"
      ]
     },
     "execution_count": 14,
     "metadata": {},
     "output_type": "execute_result"
    }
   ],
   "source": [
    "df['pos'].map(lambda x: get_noun(x))"
   ]
  },
  {
   "cell_type": "code",
   "execution_count": 15,
   "metadata": {
    "scrolled": true
   },
   "outputs": [],
   "source": [
    "df['noun'] = df.pos.apply(get_noun)\n",
    "# strings = ''\n",
    "# for word in df['pos'].map(lambda x: get_noun(x)):\n",
    "#     strings += word"
   ]
  },
  {
   "cell_type": "code",
   "execution_count": 16,
   "metadata": {},
   "outputs": [
    {
     "data": {
      "text/html": [
       "<div>\n",
       "<style scoped>\n",
       "    .dataframe tbody tr th:only-of-type {\n",
       "        vertical-align: middle;\n",
       "    }\n",
       "\n",
       "    .dataframe tbody tr th {\n",
       "        vertical-align: top;\n",
       "    }\n",
       "\n",
       "    .dataframe thead th {\n",
       "        text-align: right;\n",
       "    }\n",
       "</style>\n",
       "<table border=\"1\" class=\"dataframe\">\n",
       "  <thead>\n",
       "    <tr style=\"text-align: right;\">\n",
       "      <th></th>\n",
       "      <th>review</th>\n",
       "      <th>type</th>\n",
       "      <th>pos</th>\n",
       "      <th>noun</th>\n",
       "    </tr>\n",
       "  </thead>\n",
       "  <tbody>\n",
       "    <tr>\n",
       "      <th>0</th>\n",
       "      <td>vibrant goof full love movie cast ridiculous character forgive odd soggy stretch</td>\n",
       "      <td>critic</td>\n",
       "      <td>[(vibrant, JJ), (goof, NN), (full, JJ), (love, NN), (movie, NN), (cast, NN), (ridiculous, JJ), (character, NN), (forgive, JJ), (odd, JJ), (soggy, NNS), (stretch, NN)]</td>\n",
       "      <td>[goof, love, movie, cast, character, stretch]</td>\n",
       "    </tr>\n",
       "    <tr>\n",
       "      <th>1</th>\n",
       "      <td>wright pegg topped shaun dead trans atlantic planting whole gaggle genre</td>\n",
       "      <td>critic</td>\n",
       "      <td>[(wright, JJ), (pegg, NN), (topped, VBD), (shaun, JJ), (dead, JJ), (trans, NNS), (atlantic, JJ), (planting, VBG), (whole, JJ), (gaggle, NN), (genre, NN)]</td>\n",
       "      <td>[pegg, gaggle, genre]</td>\n",
       "    </tr>\n",
       "    <tr>\n",
       "      <th>2</th>\n",
       "      <td>movie duly quickens pursuit every speed homage action thriller smallest detail clicking ballpoint pen say amplified sound menacing cocking gun</td>\n",
       "      <td>critic</td>\n",
       "      <td>[(movie, NN), (duly, NN), (quickens, NNS), (pursuit, NN), (every, DT), (speed, NN), (homage, NN), (action, NN), (thriller, NN), (smallest, JJS), (detail, NN), (clicking, VBG), (ballpoint, NN), (pen, NNS), (say, VBP), (amplified, VBN), (sound, JJ), (menacing, VBG), (cocking, VBG), (gun, NN)]</td>\n",
       "      <td>[movie, duly, pursuit, speed, homage, action, thriller, detail, ballpoint, gun]</td>\n",
       "    </tr>\n",
       "    <tr>\n",
       "      <th>3</th>\n",
       "      <td>hot fuzz everything action comedy achieves parody film genre accomplish straight</td>\n",
       "      <td>critic</td>\n",
       "      <td>[(hot, JJ), (fuzz, NN), (everything, NN), (action, NN), (comedy, NN), (achieves, VBZ), (parody, NN), (film, NN), (genre, NN), (accomplish, JJ), (straight, NN)]</td>\n",
       "      <td>[fuzz, everything, action, comedy, parody, film, genre, straight]</td>\n",
       "    </tr>\n",
       "    <tr>\n",
       "      <th>4</th>\n",
       "      <td>culture clash comedy real character real story real big payoff two hour length light sentence</td>\n",
       "      <td>critic</td>\n",
       "      <td>[(culture, NN), (clash, NN), (comedy, NN), (real, JJ), (character, NN), (real, JJ), (story, NN), (real, JJ), (big, JJ), (payoff, NN), (two, CD), (hour, NN), (length, NN), (light, JJ), (sentence, NN)]</td>\n",
       "      <td>[culture, clash, comedy, character, story, payoff, hour, length, sentence]</td>\n",
       "    </tr>\n",
       "  </tbody>\n",
       "</table>\n",
       "</div>"
      ],
      "text/plain": [
       "                                                                                                                                           review  \\\n",
       "0  vibrant goof full love movie cast ridiculous character forgive odd soggy stretch                                                                 \n",
       "1  wright pegg topped shaun dead trans atlantic planting whole gaggle genre                                                                         \n",
       "2  movie duly quickens pursuit every speed homage action thriller smallest detail clicking ballpoint pen say amplified sound menacing cocking gun   \n",
       "3  hot fuzz everything action comedy achieves parody film genre accomplish straight                                                                 \n",
       "4  culture clash comedy real character real story real big payoff two hour length light sentence                                                    \n",
       "\n",
       "     type  \\\n",
       "0  critic   \n",
       "1  critic   \n",
       "2  critic   \n",
       "3  critic   \n",
       "4  critic   \n",
       "\n",
       "                                                                                                                                                                                                                                                                                                   pos  \\\n",
       "0  [(vibrant, JJ), (goof, NN), (full, JJ), (love, NN), (movie, NN), (cast, NN), (ridiculous, JJ), (character, NN), (forgive, JJ), (odd, JJ), (soggy, NNS), (stretch, NN)]                                                                                                                                \n",
       "1  [(wright, JJ), (pegg, NN), (topped, VBD), (shaun, JJ), (dead, JJ), (trans, NNS), (atlantic, JJ), (planting, VBG), (whole, JJ), (gaggle, NN), (genre, NN)]                                                                                                                                             \n",
       "2  [(movie, NN), (duly, NN), (quickens, NNS), (pursuit, NN), (every, DT), (speed, NN), (homage, NN), (action, NN), (thriller, NN), (smallest, JJS), (detail, NN), (clicking, VBG), (ballpoint, NN), (pen, NNS), (say, VBP), (amplified, VBN), (sound, JJ), (menacing, VBG), (cocking, VBG), (gun, NN)]   \n",
       "3  [(hot, JJ), (fuzz, NN), (everything, NN), (action, NN), (comedy, NN), (achieves, VBZ), (parody, NN), (film, NN), (genre, NN), (accomplish, JJ), (straight, NN)]                                                                                                                                       \n",
       "4  [(culture, NN), (clash, NN), (comedy, NN), (real, JJ), (character, NN), (real, JJ), (story, NN), (real, JJ), (big, JJ), (payoff, NN), (two, CD), (hour, NN), (length, NN), (light, JJ), (sentence, NN)]                                                                                               \n",
       "\n",
       "                                                                              noun  \n",
       "0  [goof, love, movie, cast, character, stretch]                                    \n",
       "1  [pegg, gaggle, genre]                                                            \n",
       "2  [movie, duly, pursuit, speed, homage, action, thriller, detail, ballpoint, gun]  \n",
       "3  [fuzz, everything, action, comedy, parody, film, genre, straight]                \n",
       "4  [culture, clash, comedy, character, story, payoff, hour, length, sentence]       "
      ]
     },
     "execution_count": 16,
     "metadata": {},
     "output_type": "execute_result"
    }
   ],
   "source": [
    "df.head()"
   ]
  },
  {
   "cell_type": "code",
   "execution_count": 17,
   "metadata": {},
   "outputs": [],
   "source": [
    "df['clean_noun'] = [' '.join(map(str, line)) for line in df['noun']]"
   ]
  },
  {
   "cell_type": "code",
   "execution_count": 18,
   "metadata": {
    "scrolled": true
   },
   "outputs": [
    {
     "data": {
      "text/html": [
       "<div>\n",
       "<style scoped>\n",
       "    .dataframe tbody tr th:only-of-type {\n",
       "        vertical-align: middle;\n",
       "    }\n",
       "\n",
       "    .dataframe tbody tr th {\n",
       "        vertical-align: top;\n",
       "    }\n",
       "\n",
       "    .dataframe thead th {\n",
       "        text-align: right;\n",
       "    }\n",
       "</style>\n",
       "<table border=\"1\" class=\"dataframe\">\n",
       "  <thead>\n",
       "    <tr style=\"text-align: right;\">\n",
       "      <th></th>\n",
       "      <th>review</th>\n",
       "      <th>type</th>\n",
       "      <th>pos</th>\n",
       "      <th>noun</th>\n",
       "      <th>clean_noun</th>\n",
       "    </tr>\n",
       "  </thead>\n",
       "  <tbody>\n",
       "    <tr>\n",
       "      <th>0</th>\n",
       "      <td>vibrant goof full love movie cast ridiculous character forgive odd soggy stretch</td>\n",
       "      <td>critic</td>\n",
       "      <td>[(vibrant, JJ), (goof, NN), (full, JJ), (love, NN), (movie, NN), (cast, NN), (ridiculous, JJ), (character, NN), (forgive, JJ), (odd, JJ), (soggy, NNS), (stretch, NN)]</td>\n",
       "      <td>[goof, love, movie, cast, character, stretch]</td>\n",
       "      <td>goof love movie cast character stretch</td>\n",
       "    </tr>\n",
       "    <tr>\n",
       "      <th>1</th>\n",
       "      <td>wright pegg topped shaun dead trans atlantic planting whole gaggle genre</td>\n",
       "      <td>critic</td>\n",
       "      <td>[(wright, JJ), (pegg, NN), (topped, VBD), (shaun, JJ), (dead, JJ), (trans, NNS), (atlantic, JJ), (planting, VBG), (whole, JJ), (gaggle, NN), (genre, NN)]</td>\n",
       "      <td>[pegg, gaggle, genre]</td>\n",
       "      <td>pegg gaggle genre</td>\n",
       "    </tr>\n",
       "    <tr>\n",
       "      <th>2</th>\n",
       "      <td>movie duly quickens pursuit every speed homage action thriller smallest detail clicking ballpoint pen say amplified sound menacing cocking gun</td>\n",
       "      <td>critic</td>\n",
       "      <td>[(movie, NN), (duly, NN), (quickens, NNS), (pursuit, NN), (every, DT), (speed, NN), (homage, NN), (action, NN), (thriller, NN), (smallest, JJS), (detail, NN), (clicking, VBG), (ballpoint, NN), (pen, NNS), (say, VBP), (amplified, VBN), (sound, JJ), (menacing, VBG), (cocking, VBG), (gun, NN)]</td>\n",
       "      <td>[movie, duly, pursuit, speed, homage, action, thriller, detail, ballpoint, gun]</td>\n",
       "      <td>movie duly pursuit speed homage action thriller detail ballpoint gun</td>\n",
       "    </tr>\n",
       "    <tr>\n",
       "      <th>3</th>\n",
       "      <td>hot fuzz everything action comedy achieves parody film genre accomplish straight</td>\n",
       "      <td>critic</td>\n",
       "      <td>[(hot, JJ), (fuzz, NN), (everything, NN), (action, NN), (comedy, NN), (achieves, VBZ), (parody, NN), (film, NN), (genre, NN), (accomplish, JJ), (straight, NN)]</td>\n",
       "      <td>[fuzz, everything, action, comedy, parody, film, genre, straight]</td>\n",
       "      <td>fuzz everything action comedy parody film genre straight</td>\n",
       "    </tr>\n",
       "    <tr>\n",
       "      <th>4</th>\n",
       "      <td>culture clash comedy real character real story real big payoff two hour length light sentence</td>\n",
       "      <td>critic</td>\n",
       "      <td>[(culture, NN), (clash, NN), (comedy, NN), (real, JJ), (character, NN), (real, JJ), (story, NN), (real, JJ), (big, JJ), (payoff, NN), (two, CD), (hour, NN), (length, NN), (light, JJ), (sentence, NN)]</td>\n",
       "      <td>[culture, clash, comedy, character, story, payoff, hour, length, sentence]</td>\n",
       "      <td>culture clash comedy character story payoff hour length sentence</td>\n",
       "    </tr>\n",
       "  </tbody>\n",
       "</table>\n",
       "</div>"
      ],
      "text/plain": [
       "                                                                                                                                           review  \\\n",
       "0  vibrant goof full love movie cast ridiculous character forgive odd soggy stretch                                                                 \n",
       "1  wright pegg topped shaun dead trans atlantic planting whole gaggle genre                                                                         \n",
       "2  movie duly quickens pursuit every speed homage action thriller smallest detail clicking ballpoint pen say amplified sound menacing cocking gun   \n",
       "3  hot fuzz everything action comedy achieves parody film genre accomplish straight                                                                 \n",
       "4  culture clash comedy real character real story real big payoff two hour length light sentence                                                    \n",
       "\n",
       "     type  \\\n",
       "0  critic   \n",
       "1  critic   \n",
       "2  critic   \n",
       "3  critic   \n",
       "4  critic   \n",
       "\n",
       "                                                                                                                                                                                                                                                                                                   pos  \\\n",
       "0  [(vibrant, JJ), (goof, NN), (full, JJ), (love, NN), (movie, NN), (cast, NN), (ridiculous, JJ), (character, NN), (forgive, JJ), (odd, JJ), (soggy, NNS), (stretch, NN)]                                                                                                                                \n",
       "1  [(wright, JJ), (pegg, NN), (topped, VBD), (shaun, JJ), (dead, JJ), (trans, NNS), (atlantic, JJ), (planting, VBG), (whole, JJ), (gaggle, NN), (genre, NN)]                                                                                                                                             \n",
       "2  [(movie, NN), (duly, NN), (quickens, NNS), (pursuit, NN), (every, DT), (speed, NN), (homage, NN), (action, NN), (thriller, NN), (smallest, JJS), (detail, NN), (clicking, VBG), (ballpoint, NN), (pen, NNS), (say, VBP), (amplified, VBN), (sound, JJ), (menacing, VBG), (cocking, VBG), (gun, NN)]   \n",
       "3  [(hot, JJ), (fuzz, NN), (everything, NN), (action, NN), (comedy, NN), (achieves, VBZ), (parody, NN), (film, NN), (genre, NN), (accomplish, JJ), (straight, NN)]                                                                                                                                       \n",
       "4  [(culture, NN), (clash, NN), (comedy, NN), (real, JJ), (character, NN), (real, JJ), (story, NN), (real, JJ), (big, JJ), (payoff, NN), (two, CD), (hour, NN), (length, NN), (light, JJ), (sentence, NN)]                                                                                               \n",
       "\n",
       "                                                                              noun  \\\n",
       "0  [goof, love, movie, cast, character, stretch]                                     \n",
       "1  [pegg, gaggle, genre]                                                             \n",
       "2  [movie, duly, pursuit, speed, homage, action, thriller, detail, ballpoint, gun]   \n",
       "3  [fuzz, everything, action, comedy, parody, film, genre, straight]                 \n",
       "4  [culture, clash, comedy, character, story, payoff, hour, length, sentence]        \n",
       "\n",
       "                                                             clean_noun  \n",
       "0  goof love movie cast character stretch                                \n",
       "1  pegg gaggle genre                                                     \n",
       "2  movie duly pursuit speed homage action thriller detail ballpoint gun  \n",
       "3  fuzz everything action comedy parody film genre straight              \n",
       "4  culture clash comedy character story payoff hour length sentence      "
      ]
     },
     "execution_count": 18,
     "metadata": {},
     "output_type": "execute_result"
    }
   ],
   "source": [
    "df.head()"
   ]
  },
  {
   "cell_type": "code",
   "execution_count": 19,
   "metadata": {
    "scrolled": true
   },
   "outputs": [],
   "source": [
    "list_of_words = []\n",
    "for index, rows in df.iterrows():\n",
    "    list_of_words.append(rows.clean_noun)\n",
    "# print(list_of_words)"
   ]
  },
  {
   "cell_type": "markdown",
   "metadata": {},
   "source": [
    "## Topic Modeling with NMF"
   ]
  },
  {
   "cell_type": "code",
   "execution_count": 20,
   "metadata": {},
   "outputs": [],
   "source": [
    "def display_topics(model, feature_names, no_top_words, topic_names=None):\n",
    "    for ix, topic in enumerate(model.components_):\n",
    "        if not topic_names or not topic_names[ix]:\n",
    "            print(\"\\nTopic \", ix)\n",
    "        else:\n",
    "            print(\"\\nTopic: '\",topic_names[ix],\"'\")\n",
    "        print(\", \".join([feature_names[i]\n",
    "                        for i in topic.argsort()[:-no_top_words - 1:-1]]))"
   ]
  },
  {
   "cell_type": "code",
   "execution_count": 21,
   "metadata": {},
   "outputs": [],
   "source": [
    "ex_label = [e[:30]+\"...\" for e in list_of_words]"
   ]
  },
  {
   "cell_type": "code",
   "execution_count": 22,
   "metadata": {},
   "outputs": [
    {
     "data": {
      "text/plain": [
       "3825"
      ]
     },
     "execution_count": 22,
     "metadata": {},
     "output_type": "execute_result"
    }
   ],
   "source": [
    "# len(list_of_words)"
   ]
  },
  {
   "cell_type": "code",
   "execution_count": 23,
   "metadata": {},
   "outputs": [],
   "source": [
    "stop_words = set(stopwords.words('english'))\n",
    "# print(stop_words)\n",
    "new_stopwords = [\"movie\", \"comedy\", \"funny\", \"film\", \"director\", \"humor\", \"laugh\", \"good\", \"great\", \"one\", \"like\", \n",
    "                 \"make\", \"hilarious\", \"makes\", \"best\", \"may\", \"even\", \"way\", \"still\", \"many\", \"often\", \n",
    "                 \"something\", \"get\", \"also\", \"though\", \"would\", \"could\", \"ever\", \"made\", \"see\", \"watch\", \"tm\", \n",
    "                 \"pron\", \"mr\", \"thing\", \"actor\", \"time\", \"plot\", \"aaah\", \"aan\", \"ab\", \"il\", \"di\", \"si\", \"che\", \n",
    "                 \"ci\", \"le\", \"quando\", \"la\", \"da\", \"character\", \"scene\", \"audience\", \"story\", \"ice\", \"cube\", \n",
    "                 \"moment\", \"work\", \"price\"]\n",
    "removed_words = stop_words.union(new_stopwords)\n",
    "# \"scene\", \"audience\", \"star\", \n",
    "#                  \"role\", \"genre\", \"story\", \"part\", \"work\", \"job\", \"year\", \"character\", \"performance\", \"life\", \n",
    "#                  \"moment\", \"man\", \"woman\", \"joke\""
   ]
  },
  {
   "cell_type": "code",
   "execution_count": 24,
   "metadata": {},
   "outputs": [
    {
     "data": {
      "text/html": [
       "<div>\n",
       "<style scoped>\n",
       "    .dataframe tbody tr th:only-of-type {\n",
       "        vertical-align: middle;\n",
       "    }\n",
       "\n",
       "    .dataframe tbody tr th {\n",
       "        vertical-align: top;\n",
       "    }\n",
       "\n",
       "    .dataframe thead th {\n",
       "        text-align: right;\n",
       "    }\n",
       "</style>\n",
       "<table border=\"1\" class=\"dataframe\">\n",
       "  <thead>\n",
       "    <tr style=\"text-align: right;\">\n",
       "      <th></th>\n",
       "      <th>aaron</th>\n",
       "      <th>aaron sorkin</th>\n",
       "      <th>abandon</th>\n",
       "      <th>abandon duck</th>\n",
       "      <th>abbott</th>\n",
       "      <th>abbott beat</th>\n",
       "      <th>abbott costello</th>\n",
       "      <th>abbott lou</th>\n",
       "      <th>abbott meet</th>\n",
       "      <th>abhorrent</th>\n",
       "      <th>...</th>\n",
       "      <th>zoolander talladega</th>\n",
       "      <th>zoolander vain</th>\n",
       "      <th>zucker</th>\n",
       "      <th>zucker abraham</th>\n",
       "      <th>zucker jerry</th>\n",
       "      <th>zwigoff</th>\n",
       "      <th>zwigoff company</th>\n",
       "      <th>zwigoff performance</th>\n",
       "      <th>zwigoff poignant</th>\n",
       "      <th>zwigoff pull</th>\n",
       "    </tr>\n",
       "  </thead>\n",
       "  <tbody>\n",
       "    <tr>\n",
       "      <th>goof love movie cast character...</th>\n",
       "      <td>0</td>\n",
       "      <td>0</td>\n",
       "      <td>0</td>\n",
       "      <td>0</td>\n",
       "      <td>0</td>\n",
       "      <td>0</td>\n",
       "      <td>0</td>\n",
       "      <td>0</td>\n",
       "      <td>0</td>\n",
       "      <td>0</td>\n",
       "      <td>...</td>\n",
       "      <td>0</td>\n",
       "      <td>0</td>\n",
       "      <td>0</td>\n",
       "      <td>0</td>\n",
       "      <td>0</td>\n",
       "      <td>0</td>\n",
       "      <td>0</td>\n",
       "      <td>0</td>\n",
       "      <td>0</td>\n",
       "      <td>0</td>\n",
       "    </tr>\n",
       "    <tr>\n",
       "      <th>pegg gaggle genre...</th>\n",
       "      <td>0</td>\n",
       "      <td>0</td>\n",
       "      <td>0</td>\n",
       "      <td>0</td>\n",
       "      <td>0</td>\n",
       "      <td>0</td>\n",
       "      <td>0</td>\n",
       "      <td>0</td>\n",
       "      <td>0</td>\n",
       "      <td>0</td>\n",
       "      <td>...</td>\n",
       "      <td>0</td>\n",
       "      <td>0</td>\n",
       "      <td>0</td>\n",
       "      <td>0</td>\n",
       "      <td>0</td>\n",
       "      <td>0</td>\n",
       "      <td>0</td>\n",
       "      <td>0</td>\n",
       "      <td>0</td>\n",
       "      <td>0</td>\n",
       "    </tr>\n",
       "    <tr>\n",
       "      <th>movie duly pursuit speed homag...</th>\n",
       "      <td>0</td>\n",
       "      <td>0</td>\n",
       "      <td>0</td>\n",
       "      <td>0</td>\n",
       "      <td>0</td>\n",
       "      <td>0</td>\n",
       "      <td>0</td>\n",
       "      <td>0</td>\n",
       "      <td>0</td>\n",
       "      <td>0</td>\n",
       "      <td>...</td>\n",
       "      <td>0</td>\n",
       "      <td>0</td>\n",
       "      <td>0</td>\n",
       "      <td>0</td>\n",
       "      <td>0</td>\n",
       "      <td>0</td>\n",
       "      <td>0</td>\n",
       "      <td>0</td>\n",
       "      <td>0</td>\n",
       "      <td>0</td>\n",
       "    </tr>\n",
       "    <tr>\n",
       "      <th>fuzz everything action comedy ...</th>\n",
       "      <td>0</td>\n",
       "      <td>0</td>\n",
       "      <td>0</td>\n",
       "      <td>0</td>\n",
       "      <td>0</td>\n",
       "      <td>0</td>\n",
       "      <td>0</td>\n",
       "      <td>0</td>\n",
       "      <td>0</td>\n",
       "      <td>0</td>\n",
       "      <td>...</td>\n",
       "      <td>0</td>\n",
       "      <td>0</td>\n",
       "      <td>0</td>\n",
       "      <td>0</td>\n",
       "      <td>0</td>\n",
       "      <td>0</td>\n",
       "      <td>0</td>\n",
       "      <td>0</td>\n",
       "      <td>0</td>\n",
       "      <td>0</td>\n",
       "    </tr>\n",
       "    <tr>\n",
       "      <th>culture clash comedy character...</th>\n",
       "      <td>0</td>\n",
       "      <td>0</td>\n",
       "      <td>0</td>\n",
       "      <td>0</td>\n",
       "      <td>0</td>\n",
       "      <td>0</td>\n",
       "      <td>0</td>\n",
       "      <td>0</td>\n",
       "      <td>0</td>\n",
       "      <td>0</td>\n",
       "      <td>...</td>\n",
       "      <td>0</td>\n",
       "      <td>0</td>\n",
       "      <td>0</td>\n",
       "      <td>0</td>\n",
       "      <td>0</td>\n",
       "      <td>0</td>\n",
       "      <td>0</td>\n",
       "      <td>0</td>\n",
       "      <td>0</td>\n",
       "      <td>0</td>\n",
       "    </tr>\n",
       "  </tbody>\n",
       "</table>\n",
       "<p>5 rows × 29967 columns</p>\n",
       "</div>"
      ],
      "text/plain": [
       "                                   aaron  aaron sorkin  abandon  abandon duck  \\\n",
       "goof love movie cast character...  0      0             0        0              \n",
       "pegg gaggle genre...               0      0             0        0              \n",
       "movie duly pursuit speed homag...  0      0             0        0              \n",
       "fuzz everything action comedy ...  0      0             0        0              \n",
       "culture clash comedy character...  0      0             0        0              \n",
       "\n",
       "                                   abbott  abbott beat  abbott costello  \\\n",
       "goof love movie cast character...  0       0            0                 \n",
       "pegg gaggle genre...               0       0            0                 \n",
       "movie duly pursuit speed homag...  0       0            0                 \n",
       "fuzz everything action comedy ...  0       0            0                 \n",
       "culture clash comedy character...  0       0            0                 \n",
       "\n",
       "                                   abbott lou  abbott meet  abhorrent  ...  \\\n",
       "goof love movie cast character...  0           0            0          ...   \n",
       "pegg gaggle genre...               0           0            0          ...   \n",
       "movie duly pursuit speed homag...  0           0            0          ...   \n",
       "fuzz everything action comedy ...  0           0            0          ...   \n",
       "culture clash comedy character...  0           0            0          ...   \n",
       "\n",
       "                                   zoolander talladega  zoolander vain  \\\n",
       "goof love movie cast character...  0                    0                \n",
       "pegg gaggle genre...               0                    0                \n",
       "movie duly pursuit speed homag...  0                    0                \n",
       "fuzz everything action comedy ...  0                    0                \n",
       "culture clash comedy character...  0                    0                \n",
       "\n",
       "                                   zucker  zucker abraham  zucker jerry  \\\n",
       "goof love movie cast character...  0       0               0              \n",
       "pegg gaggle genre...               0       0               0              \n",
       "movie duly pursuit speed homag...  0       0               0              \n",
       "fuzz everything action comedy ...  0       0               0              \n",
       "culture clash comedy character...  0       0               0              \n",
       "\n",
       "                                   zwigoff  zwigoff company  \\\n",
       "goof love movie cast character...  0        0                 \n",
       "pegg gaggle genre...               0        0                 \n",
       "movie duly pursuit speed homag...  0        0                 \n",
       "fuzz everything action comedy ...  0        0                 \n",
       "culture clash comedy character...  0        0                 \n",
       "\n",
       "                                   zwigoff performance  zwigoff poignant  \\\n",
       "goof love movie cast character...  0                    0                  \n",
       "pegg gaggle genre...               0                    0                  \n",
       "movie duly pursuit speed homag...  0                    0                  \n",
       "fuzz everything action comedy ...  0                    0                  \n",
       "culture clash comedy character...  0                    0                  \n",
       "\n",
       "                                   zwigoff pull  \n",
       "goof love movie cast character...  0             \n",
       "pegg gaggle genre...               0             \n",
       "movie duly pursuit speed homag...  0             \n",
       "fuzz everything action comedy ...  0             \n",
       "culture clash comedy character...  0             \n",
       "\n",
       "[5 rows x 29967 columns]"
      ]
     },
     "execution_count": 24,
     "metadata": {},
     "output_type": "execute_result"
    }
   ],
   "source": [
    "vectorizer = CountVectorizer(ngram_range=(1, 2), stop_words=removed_words, token_pattern=\"\\\\b[a-z][a-z]+\\\\b\")\n",
    "doc_word = vectorizer.fit_transform(list_of_words)\n",
    "pd.DataFrame(doc_word.toarray(), index=ex_label, columns=vectorizer.get_feature_names()).head(5)"
   ]
  },
  {
   "cell_type": "code",
   "execution_count": 25,
   "metadata": {},
   "outputs": [
    {
     "data": {
      "text/plain": [
       "array([[2.26839784e-03, 2.74412397e-02, 1.93934835e-04, 2.04633030e-03,\n",
       "        0.00000000e+00],\n",
       "       [0.00000000e+00, 2.89886483e-03, 1.76981502e-02, 0.00000000e+00,\n",
       "        0.00000000e+00],\n",
       "       [0.00000000e+00, 4.70637300e-03, 1.61596819e-02, 0.00000000e+00,\n",
       "        1.84561157e-02],\n",
       "       ...,\n",
       "       [0.00000000e+00, 1.06577036e-02, 7.88271255e-03, 6.58676461e-03,\n",
       "        9.99835334e-02],\n",
       "       [3.72936301e-03, 3.41057822e-02, 0.00000000e+00, 0.00000000e+00,\n",
       "        3.12184230e-01],\n",
       "       [0.00000000e+00, 1.00601887e-02, 0.00000000e+00, 0.00000000e+00,\n",
       "        1.25011444e-03]])"
      ]
     },
     "execution_count": 25,
     "metadata": {},
     "output_type": "execute_result"
    }
   ],
   "source": [
    "nmf = NMF(5)\n",
    "doc_topic = nmf.fit_transform(doc_word)\n",
    "doc_topic"
   ]
  },
  {
   "cell_type": "code",
   "execution_count": 26,
   "metadata": {},
   "outputs": [
    {
     "data": {
      "text/html": [
       "<div>\n",
       "<style scoped>\n",
       "    .dataframe tbody tr th:only-of-type {\n",
       "        vertical-align: middle;\n",
       "    }\n",
       "\n",
       "    .dataframe tbody tr th {\n",
       "        vertical-align: top;\n",
       "    }\n",
       "\n",
       "    .dataframe thead th {\n",
       "        text-align: right;\n",
       "    }\n",
       "</style>\n",
       "<table border=\"1\" class=\"dataframe\">\n",
       "  <thead>\n",
       "    <tr style=\"text-align: right;\">\n",
       "      <th></th>\n",
       "      <th>aaron</th>\n",
       "      <th>aaron sorkin</th>\n",
       "      <th>abandon</th>\n",
       "      <th>abandon duck</th>\n",
       "      <th>abbott</th>\n",
       "      <th>abbott beat</th>\n",
       "      <th>abbott costello</th>\n",
       "      <th>abbott lou</th>\n",
       "      <th>abbott meet</th>\n",
       "      <th>abhorrent</th>\n",
       "      <th>...</th>\n",
       "      <th>zoolander talladega</th>\n",
       "      <th>zoolander vain</th>\n",
       "      <th>zucker</th>\n",
       "      <th>zucker abraham</th>\n",
       "      <th>zucker jerry</th>\n",
       "      <th>zwigoff</th>\n",
       "      <th>zwigoff company</th>\n",
       "      <th>zwigoff performance</th>\n",
       "      <th>zwigoff poignant</th>\n",
       "      <th>zwigoff pull</th>\n",
       "    </tr>\n",
       "  </thead>\n",
       "  <tbody>\n",
       "    <tr>\n",
       "      <th>component_1</th>\n",
       "      <td>0.002</td>\n",
       "      <td>0.002</td>\n",
       "      <td>0.000</td>\n",
       "      <td>0.000</td>\n",
       "      <td>0.000</td>\n",
       "      <td>0.000</td>\n",
       "      <td>0.000</td>\n",
       "      <td>0.000</td>\n",
       "      <td>0.000</td>\n",
       "      <td>0.0</td>\n",
       "      <td>...</td>\n",
       "      <td>0.0</td>\n",
       "      <td>0.000</td>\n",
       "      <td>0.001</td>\n",
       "      <td>0.001</td>\n",
       "      <td>0.000</td>\n",
       "      <td>0.000</td>\n",
       "      <td>0.0</td>\n",
       "      <td>0.000</td>\n",
       "      <td>0.0</td>\n",
       "      <td>0.000</td>\n",
       "    </tr>\n",
       "    <tr>\n",
       "      <th>component_2</th>\n",
       "      <td>0.002</td>\n",
       "      <td>0.002</td>\n",
       "      <td>0.001</td>\n",
       "      <td>0.001</td>\n",
       "      <td>0.011</td>\n",
       "      <td>0.003</td>\n",
       "      <td>0.004</td>\n",
       "      <td>0.003</td>\n",
       "      <td>0.001</td>\n",
       "      <td>0.0</td>\n",
       "      <td>...</td>\n",
       "      <td>0.0</td>\n",
       "      <td>0.002</td>\n",
       "      <td>0.010</td>\n",
       "      <td>0.009</td>\n",
       "      <td>0.001</td>\n",
       "      <td>0.004</td>\n",
       "      <td>0.0</td>\n",
       "      <td>0.002</td>\n",
       "      <td>0.0</td>\n",
       "      <td>0.002</td>\n",
       "    </tr>\n",
       "    <tr>\n",
       "      <th>component_3</th>\n",
       "      <td>0.002</td>\n",
       "      <td>0.002</td>\n",
       "      <td>0.000</td>\n",
       "      <td>0.000</td>\n",
       "      <td>0.000</td>\n",
       "      <td>0.000</td>\n",
       "      <td>0.000</td>\n",
       "      <td>0.000</td>\n",
       "      <td>0.000</td>\n",
       "      <td>0.0</td>\n",
       "      <td>...</td>\n",
       "      <td>0.0</td>\n",
       "      <td>0.000</td>\n",
       "      <td>0.000</td>\n",
       "      <td>0.000</td>\n",
       "      <td>0.000</td>\n",
       "      <td>0.000</td>\n",
       "      <td>0.0</td>\n",
       "      <td>0.000</td>\n",
       "      <td>0.0</td>\n",
       "      <td>0.000</td>\n",
       "    </tr>\n",
       "    <tr>\n",
       "      <th>component_4</th>\n",
       "      <td>0.001</td>\n",
       "      <td>0.001</td>\n",
       "      <td>0.000</td>\n",
       "      <td>0.000</td>\n",
       "      <td>0.001</td>\n",
       "      <td>0.000</td>\n",
       "      <td>0.000</td>\n",
       "      <td>0.000</td>\n",
       "      <td>0.001</td>\n",
       "      <td>0.0</td>\n",
       "      <td>...</td>\n",
       "      <td>0.0</td>\n",
       "      <td>0.000</td>\n",
       "      <td>0.001</td>\n",
       "      <td>0.001</td>\n",
       "      <td>0.000</td>\n",
       "      <td>0.000</td>\n",
       "      <td>0.0</td>\n",
       "      <td>0.000</td>\n",
       "      <td>0.0</td>\n",
       "      <td>0.000</td>\n",
       "    </tr>\n",
       "    <tr>\n",
       "      <th>component_5</th>\n",
       "      <td>0.002</td>\n",
       "      <td>0.002</td>\n",
       "      <td>0.000</td>\n",
       "      <td>0.000</td>\n",
       "      <td>0.002</td>\n",
       "      <td>0.001</td>\n",
       "      <td>0.000</td>\n",
       "      <td>0.001</td>\n",
       "      <td>0.000</td>\n",
       "      <td>0.0</td>\n",
       "      <td>...</td>\n",
       "      <td>0.0</td>\n",
       "      <td>0.000</td>\n",
       "      <td>0.001</td>\n",
       "      <td>0.001</td>\n",
       "      <td>0.000</td>\n",
       "      <td>0.001</td>\n",
       "      <td>0.0</td>\n",
       "      <td>0.000</td>\n",
       "      <td>0.0</td>\n",
       "      <td>0.001</td>\n",
       "    </tr>\n",
       "  </tbody>\n",
       "</table>\n",
       "<p>5 rows × 29967 columns</p>\n",
       "</div>"
      ],
      "text/plain": [
       "             aaron  aaron sorkin  abandon  abandon duck  abbott  abbott beat  \\\n",
       "component_1  0.002  0.002         0.000    0.000         0.000   0.000         \n",
       "component_2  0.002  0.002         0.001    0.001         0.011   0.003         \n",
       "component_3  0.002  0.002         0.000    0.000         0.000   0.000         \n",
       "component_4  0.001  0.001         0.000    0.000         0.001   0.000         \n",
       "component_5  0.002  0.002         0.000    0.000         0.002   0.001         \n",
       "\n",
       "             abbott costello  abbott lou  abbott meet  abhorrent  ...  \\\n",
       "component_1  0.000            0.000       0.000        0.0        ...   \n",
       "component_2  0.004            0.003       0.001        0.0        ...   \n",
       "component_3  0.000            0.000       0.000        0.0        ...   \n",
       "component_4  0.000            0.000       0.001        0.0        ...   \n",
       "component_5  0.000            0.001       0.000        0.0        ...   \n",
       "\n",
       "             zoolander talladega  zoolander vain  zucker  zucker abraham  \\\n",
       "component_1  0.0                  0.000           0.001   0.001            \n",
       "component_2  0.0                  0.002           0.010   0.009            \n",
       "component_3  0.0                  0.000           0.000   0.000            \n",
       "component_4  0.0                  0.000           0.001   0.001            \n",
       "component_5  0.0                  0.000           0.001   0.001            \n",
       "\n",
       "             zucker jerry  zwigoff  zwigoff company  zwigoff performance  \\\n",
       "component_1  0.000         0.000    0.0              0.000                 \n",
       "component_2  0.001         0.004    0.0              0.002                 \n",
       "component_3  0.000         0.000    0.0              0.000                 \n",
       "component_4  0.000         0.000    0.0              0.000                 \n",
       "component_5  0.000         0.001    0.0              0.000                 \n",
       "\n",
       "             zwigoff poignant  zwigoff pull  \n",
       "component_1  0.0               0.000         \n",
       "component_2  0.0               0.002         \n",
       "component_3  0.0               0.000         \n",
       "component_4  0.0               0.000         \n",
       "component_5  0.0               0.001         \n",
       "\n",
       "[5 rows x 29967 columns]"
      ]
     },
     "execution_count": 26,
     "metadata": {},
     "output_type": "execute_result"
    }
   ],
   "source": [
    "topic_word = pd.DataFrame(nmf.components_.round(3),\n",
    "             index = [\"component_1\",\"component_2\", \"component_3\", \"component_4\", \"component_5\"],\n",
    "             columns = vectorizer.get_feature_names())\n",
    "topic_word\n",
    "# \"component_5\", \"component_6\", \"component_7\", \"component_8\", \"component_9\", \"component_10\""
   ]
  },
  {
   "cell_type": "code",
   "execution_count": 27,
   "metadata": {},
   "outputs": [
    {
     "name": "stdout",
     "output_type": "stream",
     "text": [
      "\n",
      "Topic  0\n",
      "issue, shout, martin, dirty, content, bonus, note\n",
      "\n",
      "Topic  1\n",
      "life, performance, man, fun, relationship, woman, role\n",
      "\n",
      "Topic  2\n",
      "tracy, bullet, george, hepburn, family, year, hollywood\n",
      "\n",
      "Topic  3\n",
      "barbershop, stereotype, drama, fact, experience, entertainer, development\n",
      "\n",
      "Topic  4\n",
      "chaplin, dictator, barber, war, speech, message, world\n"
     ]
    }
   ],
   "source": [
    "display_topics(nmf, vectorizer.get_feature_names(), 7)"
   ]
  },
  {
   "cell_type": "code",
   "execution_count": 28,
   "metadata": {},
   "outputs": [],
   "source": [
    "text = \" \".join(list_of_words)"
   ]
  },
  {
   "cell_type": "code",
   "execution_count": 29,
   "metadata": {},
   "outputs": [],
   "source": [
    "wordcloud = WordCloud(stopwords=removed_words, background_color=\"white\").generate(text)"
   ]
  },
  {
   "cell_type": "code",
   "execution_count": 30,
   "metadata": {},
   "outputs": [
    {
     "data": {
      "image/png": "[encoded data removed]",
      "text/plain": [
       "<Figure size 432x288 with 1 Axes>"
      ]
     },
     "metadata": {
      "needs_background": "light"
     },
     "output_type": "display_data"
    }
   ],
   "source": [
    "plt.imshow(wordcloud, interpolation='bilinear')\n",
    "plt.axis(\"off\")\n",
    "plt.show()"
   ]
  },
  {
   "cell_type": "code",
   "execution_count": 31,
   "metadata": {},
   "outputs": [],
   "source": [
    "# df[df['review'].str.contains(\"arthur\")]"
   ]
  },
  {
   "cell_type": "code",
   "execution_count": 32,
   "metadata": {},
   "outputs": [],
   "source": [
    "# for t in range(lda.num_topics):\n",
    "#     plt.figure()\n",
    "#     plt.imshow(WordCloud().fit_words(dict(lda.show_topic(t, 200))))\n",
    "#     plt.axis(\"off\")\n",
    "#     plt.title(\"Topic #\" + str(t))\n",
    "#     plt.show()"
   ]
  },
  {
   "cell_type": "markdown",
   "metadata": {},
   "source": [
    "## Topic Modeling with LSA"
   ]
  },
  {
   "cell_type": "code",
   "execution_count": 33,
   "metadata": {},
   "outputs": [
    {
     "data": {
      "text/plain": [
       "array([[0, 0, 0, ..., 0, 0, 0],\n",
       "       [0, 0, 0, ..., 0, 0, 0],\n",
       "       [0, 0, 0, ..., 0, 0, 0],\n",
       "       ...,\n",
       "       [0, 0, 0, ..., 0, 0, 0],\n",
       "       [0, 0, 0, ..., 0, 0, 0],\n",
       "       [0, 0, 0, ..., 0, 0, 0]], dtype=int64)"
      ]
     },
     "execution_count": 33,
     "metadata": {},
     "output_type": "execute_result"
    }
   ],
   "source": [
    "cv = CountVectorizer(ngram_range=(1, 2), stop_words=removed_words, token_pattern=\"\\\\b[a-z][a-z]+\\\\b\")\n",
    "bow = cv.fit_transform(list_of_words)\n",
    "bow.toarray()"
   ]
  },
  {
   "cell_type": "code",
   "execution_count": 34,
   "metadata": {},
   "outputs": [],
   "source": [
    "feature_names = cv.get_feature_names()\n",
    "# feature_names"
   ]
  },
  {
   "cell_type": "code",
   "execution_count": 35,
   "metadata": {},
   "outputs": [],
   "source": [
    "# bow_df = pd.DataFrame(bow.toarray(), columns=feature_names)\n",
    "# bow_df.head()"
   ]
  },
  {
   "cell_type": "code",
   "execution_count": 36,
   "metadata": {},
   "outputs": [
    {
     "data": {
      "text/plain": [
       "array([0.04212205, 0.02120219, 0.01472392, 0.01208781])"
      ]
     },
     "execution_count": 36,
     "metadata": {},
     "output_type": "execute_result"
    }
   ],
   "source": [
    "lsa = TruncatedSVD(4)\n",
    "doc_topic_2 = lsa.fit_transform(bow)\n",
    "lsa.explained_variance_ratio_"
   ]
  },
  {
   "cell_type": "code",
   "execution_count": 37,
   "metadata": {},
   "outputs": [],
   "source": [
    "topic_word = pd.DataFrame(lsa.components_.round(3),\n",
    "             index = [\"component_1\",\"component_2\", \"component_3\", \"component_4\"],\n",
    "             columns = cv.get_feature_names())\n",
    "# topic_word\n",
    "# \"component_5\", \"component_6\", \"component_7\", \"component_8\", \"component_9\", \"component_10\""
   ]
  },
  {
   "cell_type": "code",
   "execution_count": 38,
   "metadata": {},
   "outputs": [
    {
     "name": "stdout",
     "output_type": "stream",
     "text": [
      "\n",
      "Topic  0\n",
      "issue, shout, martin, dirty, content, bonus, note, part, factory, scoundrel\n",
      "\n",
      "Topic  1\n",
      "life, performance, role, man, relationship, chaplin, end, play, barbershop, year\n",
      "\n",
      "Topic  2\n",
      "tracy, bullet, george, hepburn, family, hollywood, mike, criterion, member, genre\n",
      "\n",
      "Topic  3\n",
      "barbershop, stereotype, drama, experience, entertainer, fact, development, performance, dialogue, line\n"
     ]
    }
   ],
   "source": [
    "display_topics(lsa, cv.get_feature_names(), 10)"
   ]
  },
  {
   "cell_type": "markdown",
   "metadata": {},
   "source": [
    "## Topic Modeling with LDA"
   ]
  },
  {
   "cell_type": "code",
   "execution_count": 39,
   "metadata": {},
   "outputs": [],
   "source": [
    "stop_words = set(stopwords.words('english'))\n",
    "# print(stop_words)\n",
    "more_stopwords = [\"movie\", \"comedy\", \"film\", \"director\", \"good\", \"great\", \"one\", \"year\", \"man\", \"humor\", \"laugh\",\n",
    "                  \"like\", \"make\", \"best\", \"may\", \"even\", \"way\", \"still\", \"many\", \"often\", \"part\", \"star\",\n",
    "                  \"something\", \"get\", \"also\", \"though\", \"would\", \"could\", \"ever\", \"made\", \"see\", \"watch\", \"tm\", \n",
    "                  \"pron\", \"mr\", \"thing\", \"actor\", \"time\", \"plot\", \"aaah\", \"aan\", \"ab\", \"il\", \"di\", \"si\", \"che\", \n",
    "                  \"ci\", \"le\", \"quando\", \"la\", \"da\", \"character\", \"story\", \"life\", \"moment\", \"scene\", \n",
    "                  \"performance\", \"end\", \"joke\", \"work\", \"lot\", \"role\", \"cast\", \"audience\", \"fun\"]\n",
    "non_words = stop_words.union(more_stopwords)\n",
    "# \"scene\", \"audience\", \"star\", \n",
    "#                  \"role\", \"genre\", \"story\", \"part\", \"work\", \"job\", \"year\", \"character\", \"performance\", \"life\", \n",
    "#                  \"moment\", \"man\", \"woman\", \"joke\""
   ]
  },
  {
   "cell_type": "code",
   "execution_count": 40,
   "metadata": {},
   "outputs": [],
   "source": [
    "count_vectorizer = CountVectorizer(ngram_range=(1, 2),  \n",
    "                                   stop_words=non_words, token_pattern=\"\\\\b[a-z][a-z]+\\\\b\", max_df=.95)\n",
    "\n",
    "count_vectorizer.fit(list_of_words)"
   ]
  },
  {
   "cell_type": "code",
   "execution_count": 41,
   "metadata": {},
   "outputs": [],
   "source": [
    "document_word = count_vectorizer.transform(list_of_words).transpose()"
   ]
  },
  {
   "cell_type": "code",
   "execution_count": 42,
   "metadata": {},
   "outputs": [],
   "source": [
    "pd.DataFrame(document_word.toarray(), count_vectorizer.get_feature_names()).head(2)"
   ]
  },
  {
   "cell_type": "code",
   "execution_count": 43,
   "metadata": {},
   "outputs": [],
   "source": [
    "# document_word.shape\n",
    "corpus = matutils.Sparse2Corpus(document_word)\n",
    "id2word = dict((v, k) for k, v in count_vectorizer.vocabulary_.items())\n",
    "# len(id2word)"
   ]
  },
  {
   "cell_type": "code",
   "execution_count": 44,
   "metadata": {},
   "outputs": [],
   "source": [
    "lda = models.LdaModel(corpus=corpus, num_topics=4, id2word=id2word, passes=15)"
   ]
  },
  {
   "cell_type": "code",
   "execution_count": 45,
   "metadata": {},
   "outputs": [],
   "source": [
    "lda.print_topics()"
   ]
  },
  {
   "cell_type": "code",
   "execution_count": 46,
   "metadata": {
    "scrolled": false
   },
   "outputs": [],
   "source": [
    "for t in range(lda.num_topics):\n",
    "    plt.figure()\n",
    "    plt.imshow(WordCloud().fit_words(dict(lda.show_topic(t, 200))))\n",
    "    plt.axis(\"off\")\n",
    "    plt.title(\"Topic #\" + str(t))\n",
    "    plt.show()"
   ]
  },
  {
   "cell_type": "markdown",
   "metadata": {},
   "source": [
    "## Visualization with PCA"
   ]
  },
  {
   "cell_type": "code",
   "execution_count": 48,
   "metadata": {},
   "outputs": [
    {
     "data": {
      "text/plain": [
       "(3825, 5)"
      ]
     },
     "execution_count": 48,
     "metadata": {},
     "output_type": "execute_result"
    }
   ],
   "source": [
    "# X = np.array(doc_topic)\n",
    "X = np.array(doc_topic)\n",
    "X.shape"
   ]
  },
  {
   "cell_type": "code",
   "execution_count": 53,
   "metadata": {},
   "outputs": [],
   "source": [
    "# Take all of the data and plot it on 2 dimensions\n",
    "pca = PCA(n_components=2)\n",
    "pca.fit(X)\n",
    "X_pca = pca.transform(X)"
   ]
  },
  {
   "cell_type": "code",
   "execution_count": 54,
   "metadata": {
    "scrolled": true
   },
   "outputs": [
    {
     "name": "stdout",
     "output_type": "stream",
     "text": [
      "shape of original X: (3825, 5)\n",
      "shape of X using 2 principal components: (3825, 2) \n",
      "\n",
      "[[-0.00322943 -0.0079659 ]\n",
      " [-0.00588175  0.0066495 ]\n",
      " [-0.0053767   0.00678607]\n",
      " ...\n",
      " [-0.00316356  0.00597029]\n",
      " [ 0.00649513  0.01721065]\n",
      " [-0.00588081 -0.00999391]]\n"
     ]
    }
   ],
   "source": [
    "# X_pca = pca.transform(X)\n",
    "print(\"shape of original X:\", X.shape)\n",
    "print(\"shape of X using 2 principal components:\", X_pca.shape, \"\\n\")\n",
    "print(X_pca)"
   ]
  },
  {
   "cell_type": "code",
   "execution_count": 56,
   "metadata": {},
   "outputs": [
    {
     "data": {
      "text/plain": [
       "array([0.2827627 , 0.22171894])"
      ]
     },
     "execution_count": 56,
     "metadata": {},
     "output_type": "execute_result"
    }
   ],
   "source": [
    "pca.explained_variance_ratio_"
   ]
  },
  {
   "cell_type": "code",
   "execution_count": 57,
   "metadata": {},
   "outputs": [
    {
     "data": {
      "text/html": [
       "<div>\n",
       "<style scoped>\n",
       "    .dataframe tbody tr th:only-of-type {\n",
       "        vertical-align: middle;\n",
       "    }\n",
       "\n",
       "    .dataframe tbody tr th {\n",
       "        vertical-align: top;\n",
       "    }\n",
       "\n",
       "    .dataframe thead th {\n",
       "        text-align: right;\n",
       "    }\n",
       "</style>\n",
       "<table border=\"1\" class=\"dataframe\">\n",
       "  <thead>\n",
       "    <tr style=\"text-align: right;\">\n",
       "      <th></th>\n",
       "      <th>PC1</th>\n",
       "      <th>PC2</th>\n",
       "    </tr>\n",
       "  </thead>\n",
       "  <tbody>\n",
       "    <tr>\n",
       "      <th>0</th>\n",
       "      <td>-0.003229</td>\n",
       "      <td>-0.007966</td>\n",
       "    </tr>\n",
       "    <tr>\n",
       "      <th>1</th>\n",
       "      <td>-0.005882</td>\n",
       "      <td>0.006649</td>\n",
       "    </tr>\n",
       "    <tr>\n",
       "      <th>2</th>\n",
       "      <td>-0.005377</td>\n",
       "      <td>0.006786</td>\n",
       "    </tr>\n",
       "    <tr>\n",
       "      <th>3</th>\n",
       "      <td>-0.005034</td>\n",
       "      <td>0.012044</td>\n",
       "    </tr>\n",
       "    <tr>\n",
       "      <th>4</th>\n",
       "      <td>0.003808</td>\n",
       "      <td>-0.000543</td>\n",
       "    </tr>\n",
       "  </tbody>\n",
       "</table>\n",
       "</div>"
      ],
      "text/plain": [
       "        PC1       PC2\n",
       "0 -0.003229 -0.007966\n",
       "1 -0.005882  0.006649\n",
       "2 -0.005377  0.006786\n",
       "3 -0.005034  0.012044\n",
       "4  0.003808 -0.000543"
      ]
     },
     "execution_count": 57,
     "metadata": {},
     "output_type": "execute_result"
    }
   ],
   "source": [
    "# to understand the importance of each variable in each PC, look at the correlations:\n",
    "\n",
    "graph_df = pd.DataFrame(X_pca, columns = ['PC1','PC2'])\n",
    "graph_df.head()\n",
    "\n",
    "# remember, signs don't matter, just direction in space"
   ]
  },
  {
   "cell_type": "code",
   "execution_count": 58,
   "metadata": {},
   "outputs": [
    {
     "data": {
      "text/plain": [
       "0    critic\n",
       "1    critic\n",
       "2    critic\n",
       "3    critic\n",
       "4    critic\n",
       "Name: type, dtype: object"
      ]
     },
     "execution_count": 58,
     "metadata": {},
     "output_type": "execute_result"
    }
   ],
   "source": [
    "df['type'].head()"
   ]
  },
  {
   "cell_type": "code",
   "execution_count": 59,
   "metadata": {
    "scrolled": true
   },
   "outputs": [],
   "source": [
    "graph_df.reset_index(drop=True, inplace=True)\n",
    "# graph_df.head()"
   ]
  },
  {
   "cell_type": "code",
   "execution_count": 60,
   "metadata": {
    "scrolled": true
   },
   "outputs": [],
   "source": [
    "df.reset_index(drop=True, inplace=True)"
   ]
  },
  {
   "cell_type": "code",
   "execution_count": 61,
   "metadata": {},
   "outputs": [],
   "source": [
    "# type(graph_df)"
   ]
  },
  {
   "cell_type": "code",
   "execution_count": 62,
   "metadata": {},
   "outputs": [],
   "source": [
    "graph_df = graph_df.assign(test=pd.Series(df['type']))\n",
    "# graph_df['test'] = df['type']"
   ]
  },
  {
   "cell_type": "code",
   "execution_count": 63,
   "metadata": {},
   "outputs": [],
   "source": [
    "# graph_df.head()"
   ]
  },
  {
   "cell_type": "code",
   "execution_count": 64,
   "metadata": {},
   "outputs": [],
   "source": [
    "graph_df.test = graph_df.test.replace(to_replace=['critic', 'audience'], value=[0, 1])"
   ]
  },
  {
   "cell_type": "code",
   "execution_count": 65,
   "metadata": {},
   "outputs": [],
   "source": [
    "# graph_df.head()"
   ]
  },
  {
   "cell_type": "code",
   "execution_count": 66,
   "metadata": {},
   "outputs": [],
   "source": [
    "# pca.singular_values_"
   ]
  },
  {
   "cell_type": "code",
   "execution_count": 67,
   "metadata": {},
   "outputs": [],
   "source": [
    "y = np.array(graph_df['test'])\n",
    "# y.shape\n",
    "# X_pca.shape\n",
    "# type(X_pca)"
   ]
  },
  {
   "cell_type": "code",
   "execution_count": 68,
   "metadata": {},
   "outputs": [],
   "source": [
    "names = ['critic', 'audience']"
   ]
  },
  {
   "cell_type": "code",
   "execution_count": 69,
   "metadata": {},
   "outputs": [],
   "source": [
    "# Create a plot of the PCA results\n",
    "from itertools import cycle\n",
    "\n",
    "def plot_PCA_2D(data, target, target_names):\n",
    "    colors = cycle(['r','g','orange','w','aqua','yellow', 'r','g', 'b','c'])\n",
    "    target_ids = range(len(target_names))\n",
    "    plt.figure(figsize=(10,10))\n",
    "    for i, c, label in zip(target_ids, colors, target_names):\n",
    "        plt.scatter(data[target == i, 0], data[target == i, 1],\n",
    "                   c=c, label=label, edgecolors='gray')\n",
    "        plt.xlim(-0.05, 0.3)\n",
    "        plt.ylim(-0.05, 0.7)\n",
    "    plt.legend(fontsize=20)\n",
    "    plt.tick_params(axis='both', which='major', labelsize=15)"
   ]
  },
  {
   "cell_type": "code",
   "execution_count": 70,
   "metadata": {},
   "outputs": [
    {
     "data": {
      "image/png": "[encoded data removed]",
      "text/plain": [
       "<Figure size 720x720 with 1 Axes>"
      ]
     },
     "metadata": {
      "needs_background": "light"
     },
     "output_type": "display_data"
    }
   ],
   "source": [
    "# plot of all the numbers\n",
    "plot_PCA_2D(X_pca, target=y, target_names=names)"
   ]
  },
  {
   "cell_type": "code",
   "execution_count": 71,
   "metadata": {},
   "outputs": [
    {
     "data": {
      "text/plain": [
       "6.920109105191928"
      ]
     },
     "execution_count": 71,
     "metadata": {},
     "output_type": "execute_result"
    }
   ],
   "source": [
    "graph_df['PC1'].max()\n",
    "# graph_df.iloc[df['PC1'].max()]"
   ]
  },
  {
   "cell_type": "code",
   "execution_count": null,
   "metadata": {},
   "outputs": [],
   "source": []
  }
 ],
 "metadata": {
  "kernelspec": {
   "display_name": "metis",
   "language": "python",
   "name": "metis"
  },
  "language_info": {
   "codemirror_mode": {
    "name": "ipython",
    "version": 3
   },
   "file_extension": ".py",
   "mimetype": "text/x-python",
   "name": "python",
   "nbconvert_exporter": "python",
   "pygments_lexer": "ipython3",
   "version": "3.6.8"
  }
 },
 "nbformat": 4,
 "nbformat_minor": 2
}
