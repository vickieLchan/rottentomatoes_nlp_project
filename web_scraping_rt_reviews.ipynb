{
 "cells": [
  {
   "cell_type": "code",
   "execution_count": 2,
   "metadata": {},
   "outputs": [
    {
     "data": {
      "text/plain": [
       "['/anaconda3/envs/metis/lib/python3.6/site-packages/requests']"
      ]
     },
     "execution_count": 2,
     "metadata": {},
     "output_type": "execute_result"
    }
   ],
   "source": [
    "from bs4 import BeautifulSoup\n",
    "from urllib.request import urlopen\n",
    "import sys\n",
    "from __future__ import print_function, division\n",
    "import requests\n",
    "import pprint\n",
    "import pandas as pd\n",
    "import numpy as np\n",
    "import csv\n",
    "import re\n",
    "import json\n",
    "\n",
    "requests.__path__"
   ]
  },
  {
   "cell_type": "markdown",
   "metadata": {},
   "source": [
    "## Scraping Critic Reviews"
   ]
  },
  {
   "cell_type": "code",
   "execution_count": 3,
   "metadata": {},
   "outputs": [],
   "source": [
    "urls = [\n",
    "    'https://www.rottentomatoes.com/m/hot_fuzz/reviews?type=top_critics', \n",
    "    'https://www.rottentomatoes.com/m/team_america_world_police/reviews?type=top_critics', \n",
    "    'https://www.rottentomatoes.com/m/superbad/reviews?type=top_critics',\n",
    "    'https://www.rottentomatoes.com/m/24_hour_party_people/reviews?type=top_critics',\n",
    "    'https://www.rottentomatoes.com/m/frances_ha/reviews?type=top_critics',\n",
    "    'https://www.rottentomatoes.com/m/school_of_rock/reviews?type=top_critics',\n",
    "    'https://www.rottentomatoes.com/m/love_and_friendship/reviews?type=top_critics',\n",
    "    'https://www.rottentomatoes.com/m/the_trip_2011/reviews?type=top_critics'\n",
    "    'https://www.rottentomatoes.com/m/the_lego_movie/reviews?type=top_critics',\n",
    "    'https://www.rottentomatoes.com/m/borat/reviews?type=top_critics'\n",
    "    'https://www.rottentomatoes.com/m/the_grand_budapest_hotel/reviews?type=top_critics',\n",
    "    'https://www.rottentomatoes.com/m/mean_girls/reviews?type=top_critics',\n",
    "    'https://www.rottentomatoes.com/m/tropic_thunder/reviews?type=top_critics',\n",
    "    'https://www.rottentomatoes.com/m/what_we_do_in_the_shadows/reviews?type=top_critics',\n",
    "    'https://www.rottentomatoes.com/m/lady_bird/reviews?type=top_critics',\n",
    "    'https://www.rottentomatoes.com/m/a_serious_man/reviews?type=top_critics',\n",
    "    'https://www.rottentomatoes.com/m/everybody_wants_some/reviews?type=top_critics',\n",
    "    'https://www.rottentomatoes.com/m/the_death_of_stalin/reviews?type=top_critics',\n",
    "    'https://www.rottentomatoes.com/m/anchorman/reviews?type=top_critics',\n",
    "    'https://www.rottentomatoes.com/m/in_bruges/reviews?type=top_critics',\n",
    "    'https://www.rottentomatoes.com/m/state_and_main/reviews?type=top_critics',\n",
    "    'https://www.rottentomatoes.com/m/40_year_old_virgin/reviews?type=top_critics',\n",
    "    'https://www.rottentomatoes.com/m/shaun_of_the_dead/reviews?type=top_critics',\n",
    "    'https://www.rottentomatoes.com/m/toni_erdmann/reviews?type=top_critics',\n",
    "    'https://www.rottentomatoes.com/m/punchdrunk_love/reviews?type=top_critics',\n",
    "    'https://www.rottentomatoes.com/m/idiocracy/reviews?type=top_critics',\n",
    "    'https://www.rottentomatoes.com/m/1193743_step_brothers/reviews?type=top_critics',\n",
    "    'https://www.rottentomatoes.com/m/bridesmaids_2011/reviews?type=top_critics',\n",
    "    'https://www.rottentomatoes.com/m/in_the_loop/reviews?type=top_critics',\n",
    "    'https://www.rottentomatoes.com/m/best_in_show/reviews?type=top_critics',\n",
    "    'https://www.rottentomatoes.com/m/the_royal_tenenbaums/reviews?type=top_critics',\n",
    "    'https://www.rottentomatoes.com/m/the_lobster/reviews?type=top_critics',\n",
    "    'https://www.rottentomatoes.com/m/ghost_world/reviews?type=top_critics',\n",
    "    'https://www.rottentomatoes.com/m/1118700-adaptation/reviews?type=top_critics',\n",
    "    'https://www.rottentomatoes.com/m/bad_santa/reviews?type=top_critics',\n",
    "    'https://www.rottentomatoes.com/m/1095420-high_fidelity/reviews?type=top_critics',\n",
    "    'https://www.rottentomatoes.com/m/knocked_up/reviews?type=top_critics',\n",
    "    'https://www.rottentomatoes.com/m/wet_hot_american_summer/reviews?type=top_critics',\n",
    "    'https://www.rottentomatoes.com/m/sideways/reviews?type=top_critics',\n",
    "    'https://www.rottentomatoes.com/m/force_majeure_2014/reviews?type=top_critics',\n",
    "    'https://www.rottentomatoes.com/m/hail_caesar_2016/reviews?type=top_critics',\n",
    "    'https://www.rottentomatoes.com/m/kung_fu_hustle/reviews?type=top_critics',\n",
    "    'https://www.rottentomatoes.com/m/jackass_the_movie/reviews?type=top_critics',\n",
    "    'https://www.rottentomatoes.com/m/the_worlds_end/reviews?type=top_critics',\n",
    "    'https://www.rottentomatoes.com/m/legally_blonde/reviews?type=top_critics',\n",
    "    'https://www.rottentomatoes.com/m/i_heart_huckabees/reviews?type=top_critics',\n",
    "    'https://www.rottentomatoes.com/m/harold_and_kumar_go_to_white_castle/reviews?type=top_critics',\n",
    "    'https://www.rottentomatoes.com/m/1197696-fantastic_mr_fox/reviews?type=top_critics',\n",
    "    'https://www.rottentomatoes.com/m/enough_said_2013/reviews?type=top_critics',\n",
    "    'https://www.rottentomatoes.com/m/hot_rod/reviews?type=top_critics',\n",
    "    'https://www.rottentomatoes.com/m/first_wives_club/reviews?type=top_critics',\n",
    "    'https://www.rottentomatoes.com/m/scary_movie/reviews?type=top_critics',\n",
    "    'https://www.rottentomatoes.com/m/bank_dick/reviews?type=top_critics',\n",
    "    'https://www.rottentomatoes.com/m/shaolin_soccer/reviews?type=top_critics',\n",
    "    'https://www.rottentomatoes.com/m/mrs_doubtfire/reviews?type=top_critics',\n",
    "    'https://www.rottentomatoes.com/m/pitch_perfect/reviews?type=top_critics',\n",
    "    'https://www.rottentomatoes.com/m/four_lions/reviews?type=top_critics',\n",
    "    'https://www.rottentomatoes.com/m/safety_last/reviews?type=top_critics',\n",
    "    'https://www.rottentomatoes.com/m/big/reviews?type=top_critics',\n",
    "    'https://www.rottentomatoes.com/m/barbershop/reviews?type=top_critics',\n",
    "    'https://www.rottentomatoes.com/m/dazed_and_confused/reviews?type=top_critics',\n",
    "    'https://www.rottentomatoes.com/m/ace_ventura_pet_detective/reviews?type=top_critics',\n",
    "    'https://www.rottentomatoes.com/m/1019017-silver_streak/reviews?type=top_critics',\n",
    "    'https://www.rottentomatoes.com/m/kissing_jessica_stein/reviews?type=top_critics',\n",
    "    'https://www.rottentomatoes.com/m/trainwreck/reviews?type=top_critics',\n",
    "    'https://www.rottentomatoes.com/m/up_in_smoke_1978/reviews?type=top_critics',\n",
    "    'https://www.rottentomatoes.com/m/peewees_big_adventure/reviews?type=top_critics',\n",
    "    'https://www.rottentomatoes.com/m/clue/reviews?type=top_critics', \n",
    "    'https://www.rottentomatoes.com/m/tommy_boy/reviews?type=top_critics',\n",
    "    'https://www.rottentomatoes.com/m/zoolander/reviews?type=top_critics',\n",
    "    'https://www.rottentomatoes.com/m/super_troopers/reviews?type=top_critics',\n",
    "    'https://www.rottentomatoes.com/m/happy_gilmore/reviews?type=top_critics',\n",
    "    'https://www.rottentomatoes.com/m/21_jump_street_2011/reviews?type=top_critics',\n",
    "    'https://www.rottentomatoes.com/m/bill_and_teds_excellent_adventure/reviews?type=top_critics',\n",
    "    'https://www.rottentomatoes.com/m/broadcast_news/reviews?type=top_critics',\n",
    "    'https://www.rottentomatoes.com/m/lost_in_america/reviews?type=top_critics',\n",
    "    'https://www.rottentomatoes.com/m/in_the_loop/reviews?type=top_critics',\n",
    "    'https://www.rottentomatoes.com/m/crazy_rich_asians/reviews?type=top_critics',\n",
    "    'https://www.rottentomatoes.com/m/house_party/reviews?type=top_critics',\n",
    "    'https://www.rottentomatoes.com/m/birdcage/reviews?type=top_critics',\n",
    "    'https://www.rottentomatoes.com/m/city_slickers/reviews?type=top_critics',\n",
    "    'https://www.rottentomatoes.com/m/road_to_morocco/reviews?type=top_critics',\n",
    "    'https://www.rottentomatoes.com/m/american_pie/reviews?type=top_critics',\n",
    "    'https://www.rottentomatoes.com/m/burn_after_reading/reviews?type=top_critics',\n",
    "    'https://www.rottentomatoes.com/m/pride_2014/reviews?type=top_critics',\n",
    "    'https://www.rottentomatoes.com/m/fast_times_at_ridgemont_high/reviews?type=top_critics',\n",
    "    'https://www.rottentomatoes.com/m/beetlejuice/reviews?type=top_critics',\n",
    "    'https://www.rottentomatoes.com/m/stripes/reviews?type=top_critics',\n",
    "    'https://www.rottentomatoes.com/m/galaxy_quest/reviews?type=top_critics',\n",
    "    'https://www.rottentomatoes.com/m/abbott_and_costello/reviews?type=top_critics',\n",
    "    'https://www.rottentomatoes.com/m/league_of_their_own/reviews?type=top_critics',\n",
    "    'https://www.rottentomatoes.com/m/spy_2015/reviews?type=top_critics',\n",
    "    'https://www.rottentomatoes.com/m/bridget_jones_diary/reviews?type=top_critics',\n",
    "    'https://www.rottentomatoes.com/m/sleeper/reviews?type=top_critics',\n",
    "    'https://www.rottentomatoes.com/m/moonstruck/reviews?type=top_critics',\n",
    "    'https://www.rottentomatoes.com/m/the_in_laws_1979/reviews?type=top_critics',\n",
    "    'https://www.rottentomatoes.com/m/1011818-ladykillers/reviews?type=top_critics',\n",
    "    'https://www.rottentomatoes.com/m/dirty_rotten_scoundrels/reviews?type=top_critics',\n",
    "    'https://www.rottentomatoes.com/m/good_morning_vietnam/reviews?type=top_critics',\n",
    "    'https://www.rottentomatoes.com/m/mash/reviews?type=top_critics',\n",
    "    'https://www.rottentomatoes.com/m/when_harry_met_sally/reviews?type=top_critics',\n",
    "    'https://www.rottentomatoes.com/m/clueless/reviews?type=top_critics',\n",
    "    'https://www.rottentomatoes.com/m/napoleon_dynamite/reviews?type=top_critics',\n",
    "    'https://www.rottentomatoes.com/m/1001240-arthur/reviews?type=top_critics',\n",
    "    'https://www.rottentomatoes.com/m/tootsie/reviews?type=top_critics',\n",
    "    'https://www.rottentomatoes.com/m/adventures_of_priscilla_queen_of_the_desert/reviews?type=top_critics',\n",
    "    'https://www.rottentomatoes.com/m/old_school/reviews?type=top_critics',\n",
    "    'https://www.rottentomatoes.com/m/friday/reviews?type=top_critics',\n",
    "    'https://www.rottentomatoes.com/m/spaceballs/reviews?type=top_critics',\n",
    "    'https://www.rottentomatoes.com/m/uhf/reviews?type=top_critics',\n",
    "    'https://www.rottentomatoes.com/m/its_a_mad_mad_mad_mad_world/reviews?type=top_critics',\n",
    "    'https://www.rottentomatoes.com/m/meet_the_parents/reviews?type=top_critics',\n",
    "    'https://www.rottentomatoes.com/m/being_there/reviews?type=top_critics',\n",
    "    'https://www.rottentomatoes.com/m/waynes_world/reviews?type=top_critics',\n",
    "    'https://www.rottentomatoes.com/m/heathers/reviews?type=top_critics',\n",
    "    'https://www.rottentomatoes.com/m/playtime/reviews?type=top_critics',\n",
    "    'https://www.rottentomatoes.com/m/beverly_hills_cop/reviews?type=top_critics',\n",
    "    'https://www.rottentomatoes.com/m/office_space/reviews?type=top_critics',\n",
    "    'https://www.rottentomatoes.com/m/graduate/reviews?type=top_critics',\n",
    "    'https://www.rottentomatoes.com/m/ferris_buellers_day_off/reviews?type=top_critics',\n",
    "    'https://www.rottentomatoes.com/m/theres_something_about_mary/reviews?type=top_critics',\n",
    "    'https://www.rottentomatoes.com/m/sherlock-jr/reviews?type=top_critics',\n",
    "    'https://www.rottentomatoes.com/m/planes_trains_and_automobiles/reviews?type=top_critics',\n",
    "    'https://www.rottentomatoes.com/m/fish_called_wanda/reviews?type=top_critics',\n",
    "    'https://www.rottentomatoes.com/m/coming_to_america/reviews?type=top_critics',\n",
    "    'https://www.rottentomatoes.com/m/ghostbusters/reviews?type=top_critics',\n",
    "    'https://www.rottentomatoes.com/m/austin_powers_international_man_of_mystery/reviews?type=top_critics',\n",
    "    'https://www.rottentomatoes.com/m/dumb_and_dumber/reviews?type=top_critics',\n",
    "    'https://www.rottentomatoes.com/m/1015380-odd_couple/reviews?type=top_critics',\n",
    "    'https://www.rottentomatoes.com/m/1016819-producers/reviews?type=top_critics',\n",
    "    'https://www.rottentomatoes.com/m/clerks/reviews?type=top_critics',\n",
    "    'https://www.rottentomatoes.com/m/1015002-night_at_the_opera/reviews?type=top_critics',\n",
    "    'https://www.rottentomatoes.com/m/lady_eve/reviews?type=top_critics',\n",
    "    'https://www.rottentomatoes.com/m/1000253-adams_rib/reviews?type=top_critics',\n",
    "    'https://www.rottentomatoes.com/m/caddyshack/reviews?type=top_critics',\n",
    "    'https://www.rottentomatoes.com/m/great_dictator/reviews?type=top_critics',\n",
    "    'https://www.rottentomatoes.com/m/philadelphia_story/reviews?type=top_critics',\n",
    "    'https://www.rottentomatoes.com/m/raising_arizona/reviews?type=top_critics',\n",
    "    'https://www.rottentomatoes.com/m/annie_hall/reviews?type=top_critics',\n",
    "    'https://www.rottentomatoes.com/m/his_girl_friday/reviews?type=top_critics',\n",
    "    'https://www.rottentomatoes.com/m/withnail_and_i/reviews?type=top_critics',\n",
    "    'https://www.rottentomatoes.com/m/trading_places/reviews?type=top_critics',\n",
    "    'https://www.rottentomatoes.com/m/young_frankenstein/reviews?type=top_critics',\n",
    "    'https://www.rottentomatoes.com/m/the_naked_gun_from_the_files_of_police_squad/reviews?type=top_critics',\n",
    "    'https://www.rottentomatoes.com/m/blues_brothers/reviews?type=top_critics',\n",
    "    'https://www.rottentomatoes.com/m/monty_pythons_life_of_brian/reviews?type=top_critics',\n",
    "    'https://www.rottentomatoes.com/m/jerk/reviews?type=top_critics',\n",
    "    'https://www.rottentomatoes.com/m/1008166-general/reviews?type=top_critics',\n",
    "    'https://www.rottentomatoes.com/m/thin_man/reviews?type=top_critics',\n",
    "    'https://www.rottentomatoes.com/m/this_is_spinal_tap/reviews?type=top_critics',\n",
    "    'https://www.rottentomatoes.com/m/national_lampoons_animal_house/reviews?type=top_critics',\n",
    "    'https://www.rottentomatoes.com/m/blazing_saddles/reviews?type=top_critics',\n",
    "    'https://www.rottentomatoes.com/m/bringing_up_baby/reviews?type=top_critics',\n",
    "    'https://www.rottentomatoes.com/m/modern_times/reviews?type=top_critics',\n",
    "    'https://www.rottentomatoes.com/m/1001115-apartment/reviews?type=top_critics',\n",
    "    'https://www.rottentomatoes.com/m/groundhog_day/reviews?type=top_critics',\n",
    "    'https://www.rottentomatoes.com/m/princess_bride/reviews?type=top_critics',\n",
    "    'https://www.rottentomatoes.com/m/dr_strangelove/reviews?type=top_critics',\n",
    "    'https://www.rottentomatoes.com/m/duck_soup/reviews/',\n",
    "    'https://www.rottentomatoes.com/m/the_big_lebowski/reviews?type=top_critics',\n",
    "    'https://www.rottentomatoes.com/m/it_happened_one_night/reviews?type=top_critics',\n",
    "    'https://www.rottentomatoes.com/m/some_like_it_hot/reviews?type=top_critics',\n",
    "    'https://www.rottentomatoes.com/m/monty_python_and_the_holy_grail/reviews?type=top_critics',\n",
    "    'https://www.rottentomatoes.com/m/airplane/reviews?type=top_critics',\n",
    "    'https://www.rottentomatoes.com/m/city_lights/reviews?type=top_critics'\n",
    "]\n",
    "\n",
    "movie_list = []\n",
    "\n",
    "\n",
    "for url in urls:\n",
    "    response = requests.get(url)\n",
    "    soup = BeautifulSoup(response.content, \"html5\")\n",
    "    \n",
    "    reviews = ''\n",
    "    \n",
    "    for review in soup.find_all(\"div\", class_=\"the_review\"):\n",
    "        reviews += review.text.strip()\n",
    "        \n",
    "    movie_list.append({ 'movie': url.split('/')[4].replace('_', ' '), 'review': reviews })\n",
    "\n",
    "print(movie_list)\n"
   ]
  },
  {
   "cell_type": "markdown",
   "metadata": {},
   "source": [
    "### Saving dictionary to json file"
   ]
  },
  {
   "cell_type": "code",
   "execution_count": 4,
   "metadata": {},
   "outputs": [],
   "source": [
    "json.dumps(movie_list, indent=4)\n",
    "\n",
    "with open('movie_list_dict.json', 'w') as fp:\n",
    "    json.dump(movie_list, fp)"
   ]
  },
  {
   "cell_type": "code",
   "execution_count": 5,
   "metadata": {},
   "outputs": [],
   "source": [
    "# movie_list[46]\n",
    "# print(movie_list)\n",
    "# len(urls)"
   ]
  },
  {
   "cell_type": "code",
   "execution_count": 6,
   "metadata": {},
   "outputs": [],
   "source": [
    "for url in urls:\n",
    "    request = requests.get(url)\n",
    "    if request.status_code == 200:\n",
    "        print('Web site exists')\n",
    "    else:\n",
    "        print('Error') "
   ]
  },
  {
   "cell_type": "markdown",
   "metadata": {},
   "source": [
    "### Saving raw data to csv file"
   ]
  },
  {
   "cell_type": "code",
   "execution_count": 7,
   "metadata": {},
   "outputs": [],
   "source": [
    "review_list = []\n",
    "for url in urls:\n",
    "    response = requests.get(url)\n",
    "    soup = BeautifulSoup(response.content, \"html5\")\n",
    "    for review in soup.find_all(\"div\", class_=\"the_review\"):\n",
    "        reviews = review.text.strip()\n",
    "        if reviews != '':\n",
    "            review_list.append(reviews)\n",
    "\n",
    "pd.set_option('display.max_colwidth', -1)\n",
    "df = pd.DataFrame({'review': review_list})\n",
    "# print(test_df.info())\n",
    "df.head(10)"
   ]
  },
  {
   "cell_type": "code",
   "execution_count": 8,
   "metadata": {},
   "outputs": [],
   "source": [
    "df.to_csv(r'/Users/coffeeshoes/Desktop/total_comedy_reviews.csv')"
   ]
  },
  {
   "cell_type": "markdown",
   "metadata": {},
   "source": [
    "## Scraping Audience reviews"
   ]
  },
  {
   "cell_type": "code",
   "execution_count": 11,
   "metadata": {},
   "outputs": [],
   "source": [
    "aud_urls = []\n",
    "\n",
    "for url in urls:\n",
    "    aud_urls.append(url.replace('top_critics', 'user'))"
   ]
  },
  {
   "cell_type": "code",
   "execution_count": 17,
   "metadata": {},
   "outputs": [],
   "source": [
    "print(aud_urls)\n",
    "for url in aud_urls:\n",
    "    request = requests.get(url)\n",
    "    if request.status_code == 200:\n",
    "        print('Web site exists')\n",
    "    else:\n",
    "        print('Error') "
   ]
  },
  {
   "cell_type": "code",
   "execution_count": 25,
   "metadata": {},
   "outputs": [],
   "source": [
    "audience_reviews = []\n",
    "\n",
    "for url in aud_urls:\n",
    "    response = requests.get(url)\n",
    "    soup = BeautifulSoup(response.content, \"html5\")\n",
    "    \n",
    "    aud_reviews = ''\n",
    "    \n",
    "    for review in soup.find_all(\"p\", class_=\"audience-reviews__review js-review-text clamp clamp-8 js-clamp\"):\n",
    "        aud_reviews += review.text.strip()\n",
    "        \n",
    "    audience_reviews.append({ 'movie': url.split('/')[4].replace('_', ' '), 'review': aud_reviews })\n",
    "\n",
    "print(audience_reviews)\n"
   ]
  },
  {
   "cell_type": "markdown",
   "metadata": {},
   "source": [
    "### Saving raw audience reviews dictionary to json file"
   ]
  },
  {
   "cell_type": "code",
   "execution_count": 18,
   "metadata": {},
   "outputs": [],
   "source": [
    "with open('audience_reviews_dict.json', 'w') as fp:\n",
    "    json.dump(audience_reviews, fp)"
   ]
  },
  {
   "cell_type": "code",
   "execution_count": 24,
   "metadata": {},
   "outputs": [],
   "source": [
    "aud_review_list = []\n",
    "for url in aud_urls:\n",
    "    response = requests.get(url)\n",
    "    soup = BeautifulSoup(response.content, \"html5\")\n",
    "    for review in soup.find_all(\"p\", class_=\"audience-reviews__review js-review-text clamp clamp-8 js-clamp\"):\n",
    "        reviews = review.text.strip()\n",
    "        if reviews != '':\n",
    "            aud_review_list.append(reviews)\n",
    "\n",
    "pd.set_option('display.max_colwidth', -1)\n",
    "df2 = pd.DataFrame({'review': aud_review_list})\n",
    "\n",
    "df2 = df2.replace('\\n', ' ')\n",
    "df2.head(10)"
   ]
  },
  {
   "cell_type": "markdown",
   "metadata": {},
   "source": [
    "### Saving raw audience reviews to csv file"
   ]
  },
  {
   "cell_type": "code",
   "execution_count": 26,
   "metadata": {},
   "outputs": [],
   "source": [
    "df2.to_csv(r'/Users/coffeeshoes/Desktop/total_aud_reviews.csv')"
   ]
  },
  {
   "cell_type": "code",
   "execution_count": null,
   "metadata": {},
   "outputs": [],
   "source": []
  }
 ],
 "metadata": {
  "kernelspec": {
   "display_name": "Python [conda env:metis] *",
   "language": "python",
   "name": "conda-env-metis-py"
  },
  "language_info": {
   "codemirror_mode": {
    "name": "ipython",
    "version": 3
   },
   "file_extension": ".py",
   "mimetype": "text/x-python",
   "name": "python",
   "nbconvert_exporter": "python",
   "pygments_lexer": "ipython3",
   "version": "3.6.8"
  }
 },
 "nbformat": 4,
 "nbformat_minor": 2
}
